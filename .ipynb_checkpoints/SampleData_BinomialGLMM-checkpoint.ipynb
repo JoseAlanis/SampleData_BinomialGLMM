{
 "cells": [
  {
   "cell_type": "markdown",
   "metadata": {},
   "source": [
    "## Notebook to recreate and reproduce the analysis regarding a [question about model fitting to unbalanced data with glmer (lme4)](https://stackoverflow.com/questions/48491945/fitting-binomial-glmm-to-unbalanced-data-with-glmer-lme4-in-r-when-is-data-to)"
   ]
  },
  {
   "cell_type": "code",
   "execution_count": 4,
   "metadata": {
    "scrolled": true
   },
   "outputs": [
    {
     "name": "stderr",
     "output_type": "stream",
     "text": [
      "Loading required package: lme4\n",
      "Loading required package: Matrix\n",
      "Loading required package: lmerTest\n",
      "\n",
      "Attaching package: ‘lmerTest’\n",
      "\n",
      "The following object is masked from ‘package:lme4’:\n",
      "\n",
      "    lmer\n",
      "\n",
      "The following object is masked from ‘package:stats’:\n",
      "\n",
      "    step\n",
      "\n",
      "Loading required package: car\n"
     ]
    }
   ],
   "source": [
    "###\n",
    "### Require necessary packages for analysis\n",
    "\n",
    "if(!require(lme4)){install.packages(\"lme4\")}\n",
    "if(!require(lmerTest)){install.packages(\"lmerTest\")}\n",
    "if(!require(car)){install.packages(\"car\")}"
   ]
  },
  {
   "cell_type": "code",
   "execution_count": 5,
   "metadata": {
    "collapsed": true
   },
   "outputs": [],
   "source": [
    "###\n",
    "### Create Dataset\n",
    "\n",
    "all_data <- structure(list(ID = structure(c(1L, 1L, 1L, 1L, 1L, 1L, 1L, 1L, \n",
    "                                1L, 1L, 1L, 1L, 1L, 1L, 1L, 1L, 1L, 1L, 1L, 1L, 1L, 1L, 1L, 1L, \n",
    "                                1L, 1L, 1L, 1L, 1L, 1L, 1L, 1L, 1L, 1L, 1L, 1L, 1L, 1L, 1L, 1L, \n",
    "                                1L, 1L, 1L, 1L, 1L, 1L, 1L, 1L, 1L, 1L, 1L, 1L, 1L, 1L, 1L, 1L, \n",
    "                                1L, 1L, 1L, 1L, 1L, 1L, 1L, 1L, 1L, 1L, 1L, 1L, 1L, 1L, 1L, 1L, \n",
    "                                1L, 1L, 1L, 1L, 1L, 1L, 1L, 1L, 1L, 1L, 1L, 1L, 1L, 1L, 1L, 1L, \n",
    "                                1L, 1L, 1L, 1L, 1L, 1L, 1L, 1L, 1L, 1L, 1L, 1L, 1L, 1L, 1L, 1L, \n",
    "                                1L, 1L, 1L, 1L, 1L, 1L, 1L, 1L, 1L, 1L, 1L, 1L, 1L, 1L, 1L, 1L, \n",
    "                                1L, 1L, 1L, 1L, 1L, 1L, 1L, 1L, 1L, 1L, 1L, 1L, 1L, 1L, 1L, 1L, \n",
    "                                1L, 1L, 1L, 1L, 1L, 1L, 1L, 1L, 1L, 1L, 1L, 1L, 1L, 1L, 1L, 1L, \n",
    "                                1L, 1L, 1L, 1L, 1L, 1L, 1L, 1L, 1L, 1L, 1L, 1L, 1L, 1L, 1L, 1L, \n",
    "                                1L, 1L, 1L, 1L, 1L, 1L, 1L, 1L, 1L, 1L, 1L, 1L, 1L, 1L, 1L, 1L, \n",
    "                                1L, 1L, 1L, 1L, 1L, 1L, 1L, 1L, 1L, 1L, 1L, 1L, 1L, 1L, 1L, 1L, \n",
    "                                1L, 1L, 1L, 1L, 1L, 1L, 1L, 1L, 1L, 1L, 1L, 1L, 1L, 1L, 1L, 1L, \n",
    "                                1L, 1L, 1L, 1L, 1L, 1L, 1L, 1L, 1L, 1L, 1L, 1L, 1L, 1L, 1L, 1L, \n",
    "                                1L, 1L, 1L, 1L, 1L, 1L, 1L, 1L, 1L, 1L, 1L, 1L, 1L, 1L, 1L, 1L, \n",
    "                                1L, 1L, 1L, 1L, 1L, 1L, 1L, 1L, 1L, 2L, 2L, 2L, 2L, 2L, 2L, 2L, \n",
    "                                2L, 2L, 2L, 2L, 2L, 2L, 2L, 2L, 2L, 2L, 2L, 2L, 2L, 2L, 2L, 2L, \n",
    "                                2L, 2L, 2L, 2L, 2L, 2L, 2L, 2L, 2L, 2L, 2L, 2L, 2L, 2L, 2L, 2L, \n",
    "                                2L, 2L, 2L, 2L), .Label = c(\"data_1\", \"data_10\", \"data_11\", \"data_12\", \n",
    "                                                            \"data_13\", \"data_14\", \"data_15\", \"data_16\", \"data_17\", \"data_18\", \n",
    "                                                            \"data_19\", \"data_2\", \"data_20\", \"data_21\", \"data_22\", \"data_23\", \n",
    "                                                            \"data_24\", \"data_25\", \"data_26\", \"data_27\", \"data_28\", \"data_29\", \n",
    "                                                            \"data_3\", \"data_30\", \"data_31\", \"data_32\", \"data_4\", \"data_5\", \n",
    "                                                            \"data_6\", \"data_7\", \"data_8\", \"data_9\"), class = \"factor\"), Block = structure(c(1L, \n",
    "                                                                                                                                            1L, 1L, 1L, 1L, 1L, 1L, 1L, 1L, 1L, 1L, 1L, 1L, 1L, 1L, 1L, 1L, \n",
    "                                                                                                                                            1L, 1L, 1L, 1L, 1L, 1L, 1L, 1L, 1L, 1L, 1L, 1L, 1L, 1L, 1L, 1L, \n",
    "                                                                                                                                            1L, 1L, 1L, 1L, 1L, 1L, 1L, 1L, 1L, 1L, 1L, 1L, 1L, 1L, 1L, 1L, \n",
    "                                                                                                                                            1L, 1L, 1L, 1L, 1L, 1L, 1L, 1L, 1L, 1L, 1L, 1L, 1L, 1L, 1L, 1L, \n",
    "                                                                                                                                            1L, 1L, 1L, 1L, 1L, 1L, 1L, 1L, 1L, 1L, 1L, 1L, 1L, 1L, 1L, 1L, \n",
    "                                                                                                                                            1L, 1L, 1L, 1L, 1L, 1L, 1L, 1L, 1L, 1L, 1L, 1L, 1L, 1L, 1L, 1L, \n",
    "                                                                                                                                            1L, 1L, 1L, 1L, 1L, 1L, 1L, 1L, 1L, 1L, 1L, 1L, 1L, 1L, 1L, 1L, \n",
    "                                                                                                                                            1L, 1L, 1L, 1L, 1L, 1L, 1L, 1L, 1L, 1L, 1L, 1L, 1L, 1L, 1L, 1L, \n",
    "                                                                                                                                            2L, 2L, 2L, 2L, 2L, 2L, 2L, 2L, 2L, 2L, 2L, 2L, 2L, 2L, 2L, 2L, \n",
    "                                                                                                                                            2L, 2L, 2L, 2L, 2L, 2L, 2L, 2L, 2L, 2L, 2L, 2L, 2L, 2L, 2L, 2L, \n",
    "                                                                                                                                            2L, 2L, 2L, 2L, 2L, 2L, 2L, 2L, 2L, 2L, 2L, 2L, 2L, 2L, 2L, 2L, \n",
    "                                                                                                                                            2L, 2L, 2L, 2L, 2L, 2L, 2L, 2L, 2L, 2L, 2L, 2L, 2L, 2L, 2L, 2L, \n",
    "                                                                                                                                            2L, 2L, 2L, 2L, 2L, 2L, 2L, 2L, 2L, 2L, 2L, 2L, 2L, 2L, 2L, 2L, \n",
    "                                                                                                                                            2L, 2L, 2L, 2L, 2L, 2L, 2L, 2L, 2L, 2L, 2L, 2L, 2L, 2L, 2L, 2L, \n",
    "                                                                                                                                            2L, 2L, 2L, 2L, 2L, 2L, 2L, 2L, 2L, 2L, 2L, 2L, 2L, 2L, 2L, 2L, \n",
    "                                                                                                                                            2L, 2L, 2L, 2L, 2L, 2L, 2L, 2L, 2L, 2L, 2L, 2L, 2L, 2L, 2L, 2L, \n",
    "                                                                                                                                            1L, 1L, 1L, 1L, 1L, 1L, 1L, 1L, 1L, 1L, 1L, 1L, 1L, 1L, 1L, 1L, \n",
    "                                                                                                                                            1L, 1L, 1L, 1L, 1L, 1L, 1L, 1L, 1L, 1L, 1L, 1L, 1L, 1L, 1L, 1L, \n",
    "                                                                                                                                            1L, 1L, 1L, 1L, 1L, 1L, 1L, 1L, 1L, 1L, 1L), .Label = c(\"Block 1\", \n",
    "                                                                                                                                                                                                    \"Block 2\"), class = \"factor\"), Trial = c(1L, 2L, 3L, 4L, 5L, \n",
    "                                                                                                                                                                                                                                             6L, 7L, 8L, 9L, 10L, 11L, 12L, 13L, 14L, 15L, 16L, 17L, 18L, \n",
    "                                                                                                                                                                                                                                             19L, 20L, 21L, 22L, 23L, 24L, 25L, 26L, 27L, 28L, 29L, 30L, 31L, \n",
    "                                                                                                                                                                                                                                             32L, 33L, 34L, 35L, 36L, 37L, 38L, 39L, 40L, 41L, 42L, 43L, 44L, \n",
    "                                                                                                                                                                                                                                             45L, 46L, 47L, 48L, 49L, 50L, 51L, 52L, 53L, 54L, 55L, 56L, 57L, \n",
    "                                                                                                                                                                                                                                             58L, 59L, 60L, 61L, 62L, 63L, 64L, 65L, 66L, 67L, 68L, 69L, 70L, \n",
    "                                                                                                                                                                                                                                             71L, 72L, 73L, 74L, 75L, 76L, 77L, 78L, 79L, 80L, 81L, 82L, 83L, \n",
    "                                                                                                                                                                                                                                             84L, 85L, 86L, 87L, 88L, 89L, 90L, 91L, 92L, 93L, 94L, 95L, 96L, \n",
    "                                                                                                                                                                                                                                             97L, 98L, 99L, 100L, 101L, 102L, 103L, 104L, 105L, 106L, 107L, \n",
    "                                                                                                                                                                                                                                             108L, 109L, 110L, 111L, 112L, 113L, 114L, 115L, 116L, 117L, 118L, \n",
    "                                                                                                                                                                                                                                             119L, 120L, 121L, 122L, 123L, 124L, 125L, 126L, 127L, 128L, 129L, \n",
    "                                                                                                                                                                                                                                             1L, 2L, 3L, 4L, 5L, 6L, 7L, 8L, 9L, 10L, 11L, 12L, 13L, 14L, \n",
    "                                                                                                                                                                                                                                             15L, 16L, 17L, 18L, 19L, 20L, 21L, 22L, 23L, 24L, 25L, 26L, 27L, \n",
    "                                                                                                                                                                                                                                             28L, 29L, 30L, 31L, 32L, 33L, 34L, 35L, 36L, 37L, 38L, 39L, 40L, \n",
    "                                                                                                                                                                                                                                             41L, 42L, 43L, 44L, 45L, 46L, 47L, 48L, 49L, 50L, 51L, 52L, 53L, \n",
    "                                                                                                                                                                                                                                             54L, 55L, 56L, 57L, 59L, 60L, 61L, 62L, 63L, 64L, 65L, 66L, 67L, \n",
    "                                                                                                                                                                                                                                             68L, 69L, 70L, 71L, 72L, 73L, 74L, 75L, 76L, 77L, 78L, 79L, 80L, \n",
    "                                                                                                                                                                                                                                             81L, 82L, 83L, 84L, 85L, 86L, 87L, 88L, 89L, 90L, 91L, 92L, 93L, \n",
    "                                                                                                                                                                                                                                             94L, 95L, 96L, 97L, 98L, 99L, 100L, 101L, 102L, 103L, 104L, 105L, \n",
    "                                                                                                                                                                                                                                             106L, 107L, 108L, 109L, 110L, 111L, 112L, 113L, 114L, 115L, 116L, \n",
    "                                                                                                                                                                                                                                             117L, 118L, 119L, 120L, 121L, 122L, 123L, 124L, 125L, 126L, 127L, \n",
    "                                                                                                                                                                                                                                             128L, 129L, 1L, 2L, 3L, 4L, 5L, 6L, 7L, 8L, 9L, 10L, 11L, 12L, \n",
    "                                                                                                                                                                                                                                             13L, 14L, 15L, 16L, 17L, 18L, 19L, 20L, 21L, 22L, 23L, 24L, 27L, \n",
    "                                                                                                                                                                                                                                             28L, 29L, 30L, 31L, 32L, 33L, 34L, 35L, 36L, 37L, 38L, 39L, 40L, \n",
    "                                                                                                                                                                                                                                             41L, 42L, 43L, 44L, 45L), Trial_Type = structure(c(1L, 1L, 1L, \n",
    "                                                                                                                                                                                                                                                                                                1L, 2L, 1L, 1L, 3L, 1L, 1L, 1L, 2L, 1L, 3L, 4L, 1L, 1L, 1L, 1L, \n",
    "                                                                                                                                                                                                                                                                                                1L, 1L, 3L, 1L, 3L, 1L, 2L, 1L, 1L, 2L, 1L, 1L, 3L, 2L, 1L, 4L, \n",
    "                                                                                                                                                                                                                                                                                                1L, 1L, 1L, 3L, 1L, 1L, 1L, 4L, 1L, 3L, 2L, 1L, 1L, 3L, 1L, 1L, \n",
    "                                                                                                                                                                                                                                                                                                1L, 4L, 4L, 1L, 1L, 1L, 1L, 1L, 1L, 1L, 1L, 1L, 2L, 4L, 1L, 3L, \n",
    "                                                                                                                                                                                                                                                                                                2L, 1L, 4L, 1L, 3L, 1L, 1L, 1L, 1L, 1L, 2L, 1L, 1L, 1L, 1L, 1L, \n",
    "                                                                                                                                                                                                                                                                                                1L, 1L, 1L, 1L, 1L, 2L, 1L, 1L, 4L, 3L, 1L, 1L, 1L, 3L, 1L, 4L, \n",
    "                                                                                                                                                                                                                                                                                                1L, 1L, 4L, 1L, 1L, 1L, 2L, 1L, 1L, 1L, 4L, 4L, 1L, 4L, 1L, 1L, \n",
    "                                                                                                                                                                                                                                                                                                3L, 1L, 1L, 1L, 1L, 1L, 1L, 1L, 2L, 2L, 1L, 1L, 1L, 1L, 3L, 1L, \n",
    "                                                                                                                                                                                                                                                                                                1L, 2L, 1L, 1L, 1L, 3L, 3L, 1L, 1L, 1L, 2L, 4L, 4L, 3L, 2L, 1L, \n",
    "                                                                                                                                                                                                                                                                                                4L, 1L, 1L, 1L, 2L, 1L, 1L, 1L, 1L, 1L, 4L, 1L, 1L, 1L, 1L, 4L, \n",
    "                                                                                                                                                                                                                                                                                                1L, 1L, 1L, 1L, 1L, 1L, 1L, 1L, 1L, 1L, 1L, 1L, 1L, 4L, 1L, 1L, \n",
    "                                                                                                                                                                                                                                                                                                1L, 1L, 1L, 1L, 4L, 1L, 2L, 1L, 1L, 3L, 2L, 1L, 1L, 3L, 1L, 3L, \n",
    "                                                                                                                                                                                                                                                                                                2L, 2L, 1L, 1L, 1L, 2L, 3L, 1L, 1L, 1L, 1L, 1L, 4L, 1L, 3L, 1L, \n",
    "                                                                                                                                                                                                                                                                                                1L, 4L, 1L, 1L, 1L, 1L, 2L, 1L, 1L, 1L, 2L, 2L, 1L, 4L, 1L, 1L, \n",
    "                                                                                                                                                                                                                                                                                                1L, 1L, 3L, 1L, 1L, 1L, 1L, 1L, 1L, 1L, 1L, 1L, 1L, 1L, 2L, 1L, \n",
    "                                                                                                                                                                                                                                                                                                3L, 1L, 4L, 1L, 4L, 1L, 1L, 1L, 1L, 1L, 1L, 3L, 1L, 4L, 1L, 1L, \n",
    "                                                                                                                                                                                                                                                                                                1L, 1L, 2L, 1L, 1L, 3L, 1L, 1L, 1L, 2L, 1L, 3L, 4L, 1L, 1L, 1L, \n",
    "                                                                                                                                                                                                                                                                                                1L, 1L, 1L, 3L, 1L, 3L, 1L, 1L, 2L, 1L, 1L, 3L, 2L, 1L, 4L, 1L, \n",
    "                                                                                                                                                                                                                                                                                                1L, 1L, 3L, 1L, 1L, 1L, 4L, 1L, 3L), .Label = c(\"AX\", \"BX\", \"AY\", \n",
    "                                                                                                                                                                                                                                                                                                                                                \"BY\"), class = \"factor\"), RT = c(336L, 430L, 430L, 309L, 253L, \n",
    "                                                                                                                                                                                                                                                                                                                                                                                 386L, 275L, 339L, 368L, 469L, 366L, 287L, 441L, 593L, 326L, 372L, \n",
    "                                                                                                                                                                                                                                                                                                                                                                                 329L, 399L, 429L, 343L, 423L, 488L, 427L, 480L, 414L, 284L, 361L, \n",
    "                                                                                                                                                                                                                                                                                                                                                                                 425L, 312L, 330L, 460L, 451L, 351L, 362L, 405L, 354L, 406L, 426L, \n",
    "                                                                                                                                                                                                                                                                                                                                                                                 558L, 455L, 484L, 525L, 381L, 510L, 746L, 325L, 350L, 406L, 526L, \n",
    "                                                                                                                                                                                                                                                                                                                                                                                 408L, 373L, 331L, 294L, 267L, 354L, 420L, 356L, 394L, 369L, 346L, \n",
    "                                                                                                                                                                                                                                                                                                                                                                                 358L, 366L, 556L, 314L, 563L, 431L, 522L, 254L, 348L, 308L, 417L, \n",
    "                                                                                                                                                                                                                                                                                                                                                                                 517L, 663L, 398L, 408L, 417L, 357L, 359L, 642L, 423L, 448L, 383L, \n",
    "                                                                                                                                                                                                                                                                                                                                                                                 387L, 473L, 409L, 351L, 396L, 457L, 468L, 608L, 505L, 312L, 489L, \n",
    "                                                                                                                                                                                                                                                                                                                                                                                 542L, 436L, 529L, 555L, 410L, 328L, 431L, 413L, 226L, 363L, 424L, \n",
    "                                                                                                                                                                                                                                                                                                                                                                                 393L, 311L, 389L, 381L, 430L, 452L, 414L, 408L, 354L, 338L, 389L, \n",
    "                                                                                                                                                                                                                                                                                                                                                                                 645L, 566L, 429L, 375L, 397L, 369L, 471L, 348L, 341L, 269L, 522L, \n",
    "                                                                                                                                                                                                                                                                                                                                                                                 466L, 375L, 390L, 604L, 436L, 394L, 260L, 400L, 442L, 385L, 504L, \n",
    "                                                                                                                                                                                                                                                                                                                                                                                 530L, 439L, 342L, 379L, 268L, 232L, 197L, 457L, 200L, 301L, 0L, \n",
    "                                                                                                                                                                                                                                                                                                                                                                                 365L, 284L, 342L, 250L, 332L, 379L, 388L, 388L, 373L, 268L, 368L, \n",
    "                                                                                                                                                                                                                                                                                                                                                                                 429L, 444L, 369L, 335L, 419L, 427L, 414L, 373L, 416L, 409L, 394L, \n",
    "                                                                                                                                                                                                                                                                                                                                                                                 337L, 377L, 446L, 364L, 363L, 331L, 560L, 707L, 592L, 426L, 605L, \n",
    "                                                                                                                                                                                                                                                                                                                                                                                 524L, 739L, 536L, 472L, 722L, 349L, 347L, 467L, 226L, 408L, 347L, \n",
    "                                                                                                                                                                                                                                                                                                                                                                                 596L, 370L, 473L, 238L, 196L, 394L, 373L, 360L, 495L, 606L, 422L, \n",
    "                                                                                                                                                                                                                                                                                                                                                                                 537L, 419L, 403L, 647L, 286L, 381L, 535L, 414L, 366L, 382L, 320L, \n",
    "                                                                                                                                                                                                                                                                                                                                                                                 291L, 300L, 305L, 302L, 290L, 350L, 370L, 351L, 371L, 330L, 529L, \n",
    "                                                                                                                                                                                                                                                                                                                                                                                 384L, 297L, 337L, 319L, 258L, 405L, 413L, 325L, 319L, 496L, 325L, \n",
    "                                                                                                                                                                                                                                                                                                                                                                                 417L, 312L, 348L, 502L, 354L, 278L, 379L, 562L, 282L, 246L, 294L, \n",
    "                                                                                                                                                                                                                                                                                                                                                                                 213L, 339L, 312L, 327L, 336L, 332L, 286L, 553L, 420L, 274L, 738L, \n",
    "                                                                                                                                                                                                                                                                                                                                                                                 412L, 642L, 564L, 623L, 491L, 377L, 547L, 720L, 410L, 380L, 223L, \n",
    "                                                                                                                                                                                                                                                                                                                                                                                 484L, 342L, 309L, 539L, 370L, 375L, 473L, 341L, 330L, 501L, 408L, \n",
    "                                                                                                                                                                                                                                                                                                                                                                                 498L, 308L, 286L, 227L, 256L, 303L, 533L, 362L, 278L, 267L, 434L, \n",
    "                                                                                                                                                                                                                                                                                                                                                                                 340L, 403L, 436L, 365L, 345L, 398L, 352L, 272L, 475L), Reaction = structure(c(1L, \n",
    "                                                                                                                                                                                                                                                                                                                                                                                                                                                               1L, 1L, 1L, 1L, 1L, 1L, 2L, 1L, 1L, 1L, 1L, 1L, 1L, 1L, 1L, 1L, \n",
    "                                                                                                                                                                                                                                                                                                                                                                                                                                                               1L, 1L, 1L, 1L, 1L, 1L, 1L, 1L, 1L, 1L, 1L, 1L, 1L, 1L, 1L, 1L, \n",
    "                                                                                                                                                                                                                                                                                                                                                                                                                                                               1L, 1L, 1L, 1L, 1L, 1L, 1L, 1L, 1L, 1L, 1L, 1L, 1L, 1L, 1L, 1L, \n",
    "                                                                                                                                                                                                                                                                                                                                                                                                                                                               1L, 1L, 1L, 1L, 1L, 1L, 1L, 1L, 1L, 1L, 1L, 1L, 1L, 1L, 1L, 1L, \n",
    "                                                                                                                                                                                                                                                                                                                                                                                                                                                               1L, 1L, 1L, 1L, 1L, 1L, 1L, 1L, 1L, 1L, 1L, 1L, 1L, 1L, 1L, 1L, \n",
    "                                                                                                                                                                                                                                                                                                                                                                                                                                                               1L, 1L, 1L, 1L, 1L, 1L, 1L, 1L, 1L, 1L, 1L, 1L, 1L, 1L, 1L, 1L, \n",
    "                                                                                                                                                                                                                                                                                                                                                                                                                                                               1L, 1L, 1L, 1L, 1L, 1L, 1L, 1L, 1L, 1L, 1L, 1L, 1L, 1L, 1L, 1L, \n",
    "                                                                                                                                                                                                                                                                                                                                                                                                                                                               1L, 1L, 1L, 1L, 1L, 1L, 1L, 1L, 1L, 1L, 1L, 1L, 1L, 1L, 1L, 1L, \n",
    "                                                                                                                                                                                                                                                                                                                                                                                                                                                               1L, 1L, 1L, 1L, 1L, 1L, 1L, 1L, 1L, 1L, 1L, 1L, 1L, 1L, 1L, 1L, \n",
    "                                                                                                                                                                                                                                                                                                                                                                                                                                                               1L, 1L, 2L, 1L, 1L, 1L, 1L, 1L, 1L, 1L, 1L, 1L, 1L, 1L, 1L, 1L, \n",
    "                                                                                                                                                                                                                                                                                                                                                                                                                                                               1L, 1L, 1L, 1L, 1L, 1L, 1L, 1L, 1L, 1L, 1L, 1L, 1L, 1L, 1L, 1L, \n",
    "                                                                                                                                                                                                                                                                                                                                                                                                                                                               1L, 1L, 1L, 1L, 1L, 1L, 1L, 1L, 1L, 1L, 1L, 1L, 1L, 1L, 1L, 1L, \n",
    "                                                                                                                                                                                                                                                                                                                                                                                                                                                               1L, 1L, 1L, 1L, 1L, 1L, 1L, 1L, 1L, 1L, 1L, 1L, 1L, 1L, 1L, 1L, \n",
    "                                                                                                                                                                                                                                                                                                                                                                                                                                                               1L, 1L, 1L, 1L, 1L, 1L, 1L, 1L, 1L, 1L, 1L, 1L, 1L, 1L, 1L, 1L, \n",
    "                                                                                                                                                                                                                                                                                                                                                                                                                                                               1L, 1L, 1L, 1L, 2L, 1L, 1L, 1L, 1L, 1L, 1L, 1L, 1L, 1L, 1L, 1L, \n",
    "                                                                                                                                                                                                                                                                                                                                                                                                                                                               1L, 1L, 1L, 1L, 1L, 1L, 1L, 1L, 1L, 1L, 1L, 1L, 1L, 1L, 1L, 1L, \n",
    "                                                                                                                                                                                                                                                                                                                                                                                                                                                               1L, 1L, 1L, 1L, 1L, 1L, 1L, 1L, 1L, 1L, 1L, 1L, 1L, 1L, 1L, 1L, \n",
    "                                                                                                                                                                                                                                                                                                                                                                                                                                                               1L, 1L, 1L, 1L, 1L, 1L, 1L, 2L, 1L, 1L, 1L, 1L, 1L, 1L, 1L, 1L, \n",
    "                                                                                                                                                                                                                                                                                                                                                                                                                                                               1L, 1L, 1L, 1L, 1L, 1L, 1L, 1L, 1L, 1L, 1L), .Label = c(\"Correct\", \n",
    "                                                                                                                                                                                                                                                                                                                                                                                                                                                                                                                       \"Incorrect\"), class = \"factor\"), Error_vs_Correct = c(1, 1, 1, \n",
    "                                                                                                                                                                                                                                                                                                                                                                                                                                                                                                                                                                             1, 1, 1, 1, 0, 1, 1, 1, 1, 1, 1, 1, 1, 1, 1, 1, 1, 1, 1, 1, 1, \n",
    "                                                                                                                                                                                                                                                                                                                                                                                                                                                                                                                                                                             1, 1, 1, 1, 1, 1, 1, 1, 1, 1, 1, 1, 1, 1, 1, 1, 1, 1, 1, 1, 1, \n",
    "                                                                                                                                                                                                                                                                                                                                                                                                                                                                                                                                                                             1, 1, 1, 1, 1, 1, 1, 1, 1, 1, 1, 1, 1, 1, 1, 1, 1, 1, 1, 1, 1, \n",
    "                                                                                                                                                                                                                                                                                                                                                                                                                                                                                                                                                                             1, 1, 1, 1, 1, 1, 1, 1, 1, 1, 1, 1, 1, 1, 1, 1, 1, 1, 1, 1, 1, \n",
    "                                                                                                                                                                                                                                                                                                                                                                                                                                                                                                                                                                             1, 1, 1, 1, 1, 1, 1, 1, 1, 1, 1, 1, 1, 1, 1, 1, 1, 1, 1, 1, 1, \n",
    "                                                                                                                                                                                                                                                                                                                                                                                                                                                                                                                                                                             1, 1, 1, 1, 1, 1, 1, 1, 1, 1, 1, 1, 1, 1, 1, 1, 1, 1, 1, 1, 1, \n",
    "                                                                                                                                                                                                                                                                                                                                                                                                                                                                                                                                                                             1, 1, 1, 1, 1, 1, 1, 1, 1, 1, 1, 1, 1, 1, 1, 1, 1, 1, 0, 1, 1, \n",
    "                                                                                                                                                                                                                                                                                                                                                                                                                                                                                                                                                                             1, 1, 1, 1, 1, 1, 1, 1, 1, 1, 1, 1, 1, 1, 1, 1, 1, 1, 1, 1, 1, \n",
    "                                                                                                                                                                                                                                                                                                                                                                                                                                                                                                                                                                             1, 1, 1, 1, 1, 1, 1, 1, 1, 1, 1, 1, 1, 1, 1, 1, 1, 1, 1, 1, 1, \n",
    "                                                                                                                                                                                                                                                                                                                                                                                                                                                                                                                                                                             1, 1, 1, 1, 1, 1, 1, 1, 1, 1, 1, 1, 1, 1, 1, 1, 1, 1, 1, 1, 1, \n",
    "                                                                                                                                                                                                                                                                                                                                                                                                                                                                                                                                                                             1, 1, 1, 1, 1, 1, 1, 1, 1, 1, 1, 1, 1, 1, 1, 1, 0, 1, 1, 1, 1, \n",
    "                                                                                                                                                                                                                                                                                                                                                                                                                                                                                                                                                                             1, 1, 1, 1, 1, 1, 1, 1, 1, 1, 1, 1, 1, 1, 1, 1, 1, 1, 1, 1, 1, \n",
    "                                                                                                                                                                                                                                                                                                                                                                                                                                                                                                                                                                             1, 1, 1, 1, 1, 1, 1, 1, 1, 1, 1, 1, 1, 1, 1, 1, 1, 1, 1, 1, 1, \n",
    "                                                                                                                                                                                                                                                                                                                                                                                                                                                                                                                                                                             1, 1, 1, 1, 0, 1, 1, 1, 1, 1, 1, 1, 1, 1, 1, 1, 1, 1, 1, 1, 1, \n",
    "                                                                                                                                                                                                                                                                                                                                                                                                                                                                                                                                                                             1, 1, 1)), .Names = c(\"ID\", \"Block\", \"Trial\", \"Trial_Type\", \"RT\", \n",
    "                                                                                                                                                                                                                                                                                                                                                                                                                                                                                                                                                                                                   \"Reaction\", \"Error_vs_Correct\"), row.names = c(1L, 2L, 3L, 4L, \n",
    "                                                                                                                                                                                                                                                                                                                                                                                                                                                                                                                                                                                                                                                  5L, 6L, 7L, 8L, 9L, 10L, 11L, 12L, 13L, 14L, 15L, 16L, 17L, 18L, \n",
    "                                                                                                                                                                                                                                                                                                                                                                                                                                                                                                                                                                                                                                                  19L, 20L, 21L, 22L, 23L, 24L, 25L, 26L, 27L, 28L, 29L, 30L, 31L, \n",
    "                                                                                                                                                                                                                                                                                                                                                                                                                                                                                                                                                                                                                                                  32L, 33L, 34L, 35L, 36L, 37L, 38L, 39L, 40L, 41L, 42L, 43L, 44L, \n",
    "                                                                                                                                                                                                                                                                                                                                                                                                                                                                                                                                                                                                                                                  45L, 46L, 47L, 48L, 49L, 50L, 51L, 52L, 53L, 54L, 55L, 56L, 57L, \n",
    "                                                                                                                                                                                                                                                                                                                                                                                                                                                                                                                                                                                                                                                  58L, 59L, 60L, 61L, 62L, 63L, 64L, 65L, 66L, 67L, 68L, 69L, 70L, \n",
    "                                                                                                                                                                                                                                                                                                                                                                                                                                                                                                                                                                                                                                                  71L, 72L, 73L, 74L, 75L, 76L, 77L, 78L, 79L, 80L, 81L, 82L, 83L, \n",
    "                                                                                                                                                                                                                                                                                                                                                                                                                                                                                                                                                                                                                                                  84L, 85L, 86L, 87L, 88L, 89L, 90L, 91L, 92L, 93L, 94L, 95L, 96L, \n",
    "                                                                                                                                                                                                                                                                                                                                                                                                                                                                                                                                                                                                                                                  97L, 98L, 99L, 100L, 101L, 102L, 103L, 104L, 105L, 106L, 107L, \n",
    "                                                                                                                                                                                                                                                                                                                                                                                                                                                                                                                                                                                                                                                  108L, 109L, 110L, 111L, 112L, 113L, 114L, 115L, 116L, 117L, 118L, \n",
    "                                                                                                                                                                                                                                                                                                                                                                                                                                                                                                                                                                                                                                                  119L, 120L, 121L, 122L, 123L, 124L, 125L, 126L, 127L, 128L, 129L, \n",
    "                                                                                                                                                                                                                                                                                                                                                                                                                                                                                                                                                                                                                                                  130L, 131L, 132L, 133L, 134L, 135L, 136L, 137L, 138L, 139L, 140L, \n",
    "                                                                                                                                                                                                                                                                                                                                                                                                                                                                                                                                                                                                                                                  141L, 142L, 143L, 144L, 145L, 146L, 147L, 148L, 149L, 150L, 151L, \n",
    "                                                                                                                                                                                                                                                                                                                                                                                                                                                                                                                                                                                                                                                  152L, 153L, 154L, 155L, 156L, 157L, 158L, 159L, 160L, 161L, 162L, \n",
    "                                                                                                                                                                                                                                                                                                                                                                                                                                                                                                                                                                                                                                                  163L, 164L, 165L, 166L, 167L, 168L, 169L, 170L, 171L, 172L, 173L, \n",
    "                                                                                                                                                                                                                                                                                                                                                                                                                                                                                                                                                                                                                                                  174L, 175L, 176L, 177L, 178L, 179L, 180L, 181L, 182L, 183L, 184L, \n",
    "                                                                                                                                                                                                                                                                                                                                                                                                                                                                                                                                                                                                                                                  185L, 186L, 188L, 189L, 190L, 191L, 192L, 193L, 194L, 195L, 196L, \n",
    "                                                                                                                                                                                                                                                                                                                                                                                                                                                                                                                                                                                                                                                  197L, 198L, 199L, 200L, 201L, 202L, 203L, 204L, 205L, 206L, 207L, \n",
    "                                                                                                                                                                                                                                                                                                                                                                                                                                                                                                                                                                                                                                                  208L, 209L, 210L, 211L, 212L, 213L, 214L, 215L, 216L, 217L, 218L, \n",
    "                                                                                                                                                                                                                                                                                                                                                                                                                                                                                                                                                                                                                                                  219L, 220L, 221L, 222L, 223L, 224L, 225L, 226L, 227L, 228L, 229L, \n",
    "                                                                                                                                                                                                                                                                                                                                                                                                                                                                                                                                                                                                                                                  230L, 231L, 232L, 233L, 234L, 235L, 236L, 237L, 238L, 239L, 240L, \n",
    "                                                                                                                                                                                                                                                                                                                                                                                                                                                                                                                                                                                                                                                  241L, 242L, 243L, 244L, 245L, 246L, 247L, 248L, 249L, 250L, 251L, \n",
    "                                                                                                                                                                                                                                                                                                                                                                                                                                                                                                                                                                                                                                                  252L, 253L, 254L, 255L, 256L, 257L, 258L, 259L, 260L, 261L, 262L, \n",
    "                                                                                                                                                                                                                                                                                                                                                                                                                                                                                                                                                                                                                                                  263L, 264L, 265L, 266L, 267L, 268L, 269L, 270L, 271L, 272L, 273L, \n",
    "                                                                                                                                                                                                                                                                                                                                                                                                                                                                                                                                                                                                                                                  274L, 275L, 276L, 277L, 278L, 279L, 280L, 281L, 282L, 285L, 286L, \n",
    "                                                                                                                                                                                                                                                                                                                                                                                                                                                                                                                                                                                                                                                  287L, 288L, 289L, 290L, 291L, 292L, 293L, 294L, 295L, 296L, 297L, \n",
    "                                                                                                                                                                                                                                                                                                                                                                                                                                                                                                                                                                                                                                                  298L, 299L, 300L, 301L, 302L, 303L), class = \"data.frame\")\n"
   ]
  },
  {
   "cell_type": "markdown",
   "metadata": {},
   "source": [
    "### check data structure"
   ]
  },
  {
   "cell_type": "code",
   "execution_count": 6,
   "metadata": {},
   "outputs": [
    {
     "data": {
      "text/html": [
       "'all_data'"
      ],
      "text/latex": [
       "'all\\_data'"
      ],
      "text/markdown": [
       "'all_data'"
      ],
      "text/plain": [
       "[1] \"all_data\""
      ]
     },
     "metadata": {},
     "output_type": "display_data"
    }
   ],
   "source": [
    "###\n",
    "### Check enviromnent, all_data should be there\n",
    "\n",
    "ls()"
   ]
  },
  {
   "cell_type": "code",
   "execution_count": 7,
   "metadata": {},
   "outputs": [
    {
     "name": "stdout",
     "output_type": "stream",
     "text": [
      "'data.frame':\t300 obs. of  7 variables:\n",
      " $ ID              : Factor w/ 32 levels \"data_1\",\"data_10\",..: 1 1 1 1 1 1 1 1 1 1 ...\n",
      " $ Block           : Factor w/ 2 levels \"Block 1\",\"Block 2\": 1 1 1 1 1 1 1 1 1 1 ...\n",
      " $ Trial           : int  1 2 3 4 5 6 7 8 9 10 ...\n",
      " $ Trial_Type      : Factor w/ 4 levels \"AX\",\"BX\",\"AY\",..: 1 1 1 1 2 1 1 3 1 1 ...\n",
      " $ RT              : int  336 430 430 309 253 386 275 339 368 469 ...\n",
      " $ Reaction        : Factor w/ 2 levels \"Correct\",\"Incorrect\": 1 1 1 1 1 1 1 2 1 1 ...\n",
      " $ Error_vs_Correct: num  1 1 1 1 1 1 1 0 1 1 ...\n"
     ]
    }
   ],
   "source": [
    "###\n",
    "### Check data structure\n",
    "\n",
    "str(all_data)"
   ]
  },
  {
   "cell_type": "markdown",
   "metadata": {},
   "source": [
    "\n",
    "### Setup and run the model\n"
   ]
  },
  {
   "cell_type": "code",
   "execution_count": 12,
   "metadata": {},
   "outputs": [
    {
     "name": "stderr",
     "output_type": "stream",
     "text": [
      "Warning message in checkConv(attr(opt, \"derivs\"), opt$par, ctrl = control$checkConv, :\n",
      "“unable to evaluate scaled gradient”Warning message in checkConv(attr(opt, \"derivs\"), opt$par, ctrl = control$checkConv, :\n",
      "“ Hessian is numerically singular: parameters are not uniquely determined”"
     ]
    }
   ],
   "source": [
    "mod_bi_I <- glmer(Error_vs_Correct ~ Trial_Type + Block + Trial_Type:Block + (1|ID/Trial_Type), \n",
    "                family = binomial(link = 'logit'), data = all_data, \n",
    "                control = glmerControl(optimizer=\"bobyqa\"))"
   ]
  },
  {
   "cell_type": "code",
   "execution_count": 11,
   "metadata": {},
   "outputs": [
    {
     "data": {
      "text/plain": [
       "Generalized linear mixed model fit by maximum likelihood (Laplace\n",
       "  Approximation) [glmerMod]\n",
       " Family: binomial  ( logit )\n",
       "Formula: Error_vs_Correct ~ Trial_Type + Block + Trial_Type:Block + (1 |  \n",
       "    ID/Trial_Type)\n",
       "   Data: all_data\n",
       "Control: glmerControl(optimizer = \"bobyqa\")\n",
       "\n",
       "     AIC      BIC   logLik deviance df.resid \n",
       "    46.9     84.0    -13.5     26.9      290 \n",
       "\n",
       "Scaled residuals: \n",
       "    Min      1Q  Median      3Q     Max \n",
       "-3.4641  0.0000  0.0000  0.0000  0.3333 \n",
       "\n",
       "Random effects:\n",
       " Groups        Name        Variance Std.Dev.\n",
       " Trial_Type:ID (Intercept) 0        0       \n",
       " ID            (Intercept) 0        0       \n",
       "Number of obs: 300, groups:  Trial_Type:ID, 8; ID, 2\n",
       "\n",
       "Fixed effects:\n",
       "                            Estimate Std. Error z value Pr(>|z|)\n",
       "(Intercept)                2.356e+01  5.556e+02   0.042    0.966\n",
       "Trial_TypeBX               4.395e-04  7.785e+02   0.000    1.000\n",
       "Trial_TypeAY              -2.136e+01  5.556e+02  -0.038    0.969\n",
       "Trial_TypeBY               1.056e-03  9.506e+02   0.000    1.000\n",
       "BlockBlock 2               5.954e-03  5.493e+02   0.000    1.000\n",
       "Trial_TypeBX:BlockBlock 2 -2.407e-04  9.221e+02   0.000    1.000\n",
       "Trial_TypeAY:BlockBlock 2  1.947e-01  5.493e+02   0.000    1.000\n",
       "Trial_TypeBY:BlockBlock 2 -2.108e+01  8.626e+02  -0.024    0.981\n",
       "\n",
       "Correlation of Fixed Effects:\n",
       "            (Intr) Tr_TBX Tr_TAY Tr_TBY BlckB2 T_TBX2 T_TAY2\n",
       "Trial_TypBX -0.096                                          \n",
       "Trial_TypAY -1.000  0.096                                   \n",
       "Trial_TypBY -0.303  0.038  0.303                            \n",
       "BlockBlock2 -0.291  0.009  0.291 -0.261                     \n",
       "Trl_TBX:BB2  0.024 -0.042 -0.024 -0.013 -0.097              \n",
       "Trl_TAY:BB2  0.291 -0.009 -0.291  0.261 -1.000  0.097       \n",
       "Trl_TBY:BB2 -0.125  0.014  0.125 -0.741 -0.162  0.061  0.162\n",
       "convergence code: 0\n",
       "Model is nearly unidentifiable: large eigenvalue ratio\n",
       " - Rescale variables?\n"
      ]
     },
     "metadata": {},
     "output_type": "display_data"
    }
   ],
   "source": [
    "summary(mod_bi_I)"
   ]
  },
  {
   "cell_type": "code",
   "execution_count": null,
   "metadata": {
    "collapsed": true
   },
   "outputs": [],
   "source": [
    "car::Anova(mod_bi_I, type=3)"
   ]
  }
 ],
 "metadata": {
  "kernelspec": {
   "display_name": "R",
   "language": "R",
   "name": "ir"
  },
  "language_info": {
   "codemirror_mode": "r",
   "file_extension": ".r",
   "mimetype": "text/x-r-source",
   "name": "R",
   "pygments_lexer": "r",
   "version": "3.3.2"
  }
 },
 "nbformat": 4,
 "nbformat_minor": 2
}
